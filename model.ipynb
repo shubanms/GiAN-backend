{
 "cells": [
  {
   "cell_type": "code",
   "execution_count": 15,
   "metadata": {},
   "outputs": [],
   "source": [
    "import requests\n",
    "from requests_oauthlib import OAuth2Session\n",
    "from io import StringIO\n",
    "import nbformat\n",
    "import chardet\n",
    "import re"
   ]
  },
  {
   "cell_type": "code",
   "execution_count": 32,
   "metadata": {},
   "outputs": [],
   "source": [
    "client_id = \"\"\n",
    "client_secret = \"\"\n",
    "authorization_base_url = 'https://github.com/login/oauth/authorize'\n",
    "token_url = 'https://github.com/login/oauth/access_token'\n",
    "redirect_uri = 'https://localhost:8000/callback'\n",
    "block_size = 2048"
   ]
  },
  {
   "cell_type": "code",
   "execution_count": 33,
   "metadata": {},
   "outputs": [],
   "source": [
    "def get_github_access_token(client_id, client_secret, authorization_response):\n",
    "    github = OAuth2Session(client_id, redirect_uri=redirect_uri)\n",
    "    token = github.fetch_token(token_url, authorization_response=authorization_response, client_secret=client_secret)\n",
    "    return token['access_token']"
   ]
  },
  {
   "cell_type": "code",
   "execution_count": 34,
   "metadata": {},
   "outputs": [],
   "source": [
    "def extract_python_code_from_ipynb(ipynb_content):\n",
    "    notebook = nbformat.reads(ipynb_content.getvalue(), as_version=4)\n",
    "    code_cells = [cell['source'] for cell in notebook['cells'] if cell['cell_type'] == 'code']\n",
    "    return '\\n'.join(code_cells)"
   ]
  },
  {
   "cell_type": "code",
   "execution_count": 35,
   "metadata": {},
   "outputs": [],
   "source": [
    "def get_repo_contents(repo_url, path='', access_token=None):\n",
    "    _, username, repo_name = repo_url.rstrip('/').rsplit('/', 2)\n",
    "    user_input = f\"I will provide you code for the repository {repo_name} in the next prompts, keep it in chat history\"\n",
    "    main_list = []\n",
    "    main_list.append(user_input)\n",
    "\n",
    "    api_url = f\"https://api.github.com/repos/{username}/{repo_name}/contents/{path}\"\n",
    "\n",
    "    headers = {}\n",
    "    if access_token:\n",
    "        headers['Authorization'] = f\"Bearer {access_token}\"\n",
    "\n",
    "    response = requests.get(api_url, headers=headers)\n",
    "\n",
    "    if response.status_code == 200:\n",
    "        contents = response.json()\n",
    "        \n",
    "        print(contents)\n",
    "\n",
    "        for i in contents:\n",
    "            if i:\n",
    "                if 'type' in i and i['type'] == 'file' and i['name'].lower().endswith(('.py', '.js', '.java', '.c', '.cpp', '.cs', '.html', '.css', '.rb', '.php', '.swift', '.m', '.sql', '.sh', '.ts', '.go', '.rs', '.kt', '.vue', '.jsx', '.ipynb')):\n",
    "                    file_content_url = i['download_url']\n",
    "                    file_response = requests.get(file_content_url, headers=headers)\n",
    "\n",
    "                    if file_response.status_code == 200:\n",
    "                        content_input = f\"This is the code for {i['name']}\"\n",
    "                        main_list.append(content_input)\n",
    "                        if i['name'].lower().endswith('.ipynb'):\n",
    "                            ipynb_content = StringIO(file_response.content.decode('utf-8', errors='replace'))\n",
    "                            python_code = extract_python_code_from_ipynb(ipynb_content)\n",
    "                            while python_code:\n",
    "                                block = python_code[:block_size]\n",
    "                                block_input = block\n",
    "                                main_list.append(block_input)\n",
    "                                python_code = python_code[block_size:]\n",
    "                        else:\n",
    "                            encoding = chardet.detect(file_response.content)['encoding']\n",
    "                            encoding = encoding if encoding else 'utf-8'\n",
    "                            file_content = file_response.content.decode(encoding, errors='replace')\n",
    "                            while file_content:\n",
    "                                block = file_content[:block_size]\n",
    "                                block_input = block\n",
    "                                main_list.append(block_input)\n",
    "                                file_content = file_content[block_size:]\n",
    "                    elif 'type' in i and i['type'] == 'dir':\n",
    "                        folder_input = f\"This is content in folder{i}\"\n",
    "                        main_list.append(folder_input)\n",
    "                        get_repo_contents(repo_url, path=f\"{path}/{i}\", access_token=access_token)\n",
    "                        root_input = \"Now we are back in the root directory of the repository\"\n",
    "                        main_list.append(root_input)\n",
    "        s1 = f\"This is all the pieces of code I have for {repo_name}, now I will ask you questions about {repo_name}\"\n",
    "        main_list.append(s1)\n",
    "    else:\n",
    "        print(f\"Failed to fetch repository contents. Status code: {response.status_code}\")\n",
    "\n",
    "    return main_list"
   ]
  },
  {
   "cell_type": "code",
   "execution_count": 36,
   "metadata": {},
   "outputs": [],
   "source": [
    "def get_repo_list(access_token):\n",
    "    headers = {'Authorization': f'Bearer {access_token}'}\n",
    "    response = requests.get('https://api.github.com/user/repos', headers=headers)\n",
    "    if response.status_code == 200:\n",
    "        print(response.json())\n",
    "        return response.json()\n",
    "    else:\n",
    "        print(f\"Failed to fetch repository list. Status code: {response.status_code}\")\n",
    "        return None"
   ]
  },
  {
   "cell_type": "code",
   "execution_count": null,
   "metadata": {},
   "outputs": [],
   "source": [
    "github_username = input(\"Enter your GitHub username: \")"
   ]
  },
  {
   "cell_type": "code",
   "execution_count": null,
   "metadata": {},
   "outputs": [],
   "source": [
    "github = OAuth2Session(client_id, redirect_uri=redirect_uri, scope=['repo'])\n",
    "authorization_url, state = github.authorization_url(authorization_base_url)\n",
    "print(f'Please go to {authorization_url} and authorize access.')\n",
    "\n"
   ]
  },
  {
   "cell_type": "code",
   "execution_count": null,
   "metadata": {},
   "outputs": [],
   "source": [
    "authorization_response = input('Paste the full redirect URL here: ')\n",
    "token = get_github_access_token(client_id, client_secret, authorization_response)\n",
    "\n",
    "repo_list = get_repo_list(token)\n",
    "\n",
    "print(repo_list)"
   ]
  },
  {
   "cell_type": "code",
   "execution_count": null,
   "metadata": {},
   "outputs": [],
   "source": [
    "if repo_list:\n",
    "    print(\"Repositories:\")\n",
    "    for repo in repo_list:\n",
    "        print(repo['name'])\n",
    "    print()\n",
    "\n",
    "    selected_repo = input(\"Enter the name of the repository you want to access: \")\n",
    "\n",
    "    u = get_repo_contents(f\"https://github.com/{github_username}/{selected_repo}\", access_token=token)\n",
    "    print(u)"
   ]
  }
 ],
 "metadata": {
  "kernelspec": {
   "display_name": ".venv",
   "language": "python",
   "name": "python3"
  },
  "language_info": {
   "codemirror_mode": {
    "name": "ipython",
    "version": 3
   },
   "file_extension": ".py",
   "mimetype": "text/x-python",
   "name": "python",
   "nbconvert_exporter": "python",
   "pygments_lexer": "ipython3",
   "version": "3.11.4"
  }
 },
 "nbformat": 4,
 "nbformat_minor": 2
}
